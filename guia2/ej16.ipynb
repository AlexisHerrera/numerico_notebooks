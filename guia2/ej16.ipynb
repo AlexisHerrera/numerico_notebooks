{
 "cells": [
  {
   "cell_type": "markdown",
   "id": "3a63aa10-576a-486b-9d62-fed060d92af8",
   "metadata": {},
   "source": [
    "## Ejercicio 16"
   ]
  },
  {
   "cell_type": "markdown",
   "id": "46a450bb-1f55-499d-b9dc-9f893c862057",
   "metadata": {
    "tags": []
   },
   "source": [
    "## Importar librerias"
   ]
  },
  {
   "cell_type": "code",
   "execution_count": 9,
   "id": "0890bbf2-b277-4554-b35a-d985a65947ba",
   "metadata": {},
   "outputs": [],
   "source": [
    "from secante import secante"
   ]
  },
  {
   "cell_type": "markdown",
   "id": "a7684fd0-6d02-40dd-9498-8c737823c6ef",
   "metadata": {
    "tags": []
   },
   "source": [
    "## Funciones a utilizar"
   ]
  },
  {
   "cell_type": "code",
   "execution_count": 12,
   "id": "3643365d-4011-40e3-8343-d38f4dc5a733",
   "metadata": {
    "jp-MarkdownHeadingCollapsed": true,
    "tags": []
   },
   "outputs": [],
   "source": [
    "from math import sin, cos\n",
    "def f(x):\n",
    "    return (x**2)/4 - sin(x)"
   ]
  },
  {
   "cell_type": "markdown",
   "id": "9bb4b4ea-f873-499a-85e3-f7da0468d3e6",
   "metadata": {},
   "source": [
    "## Ejecucion"
   ]
  },
  {
   "cell_type": "code",
   "execution_count": 13,
   "id": "9bd25f13-284c-4e47-bad0-66b1648e2219",
   "metadata": {},
   "outputs": [
    {
     "name": "stdout",
     "output_type": "stream",
     "text": [
      "Iteracion 2, Pn: 1.9137312210346218, |Pn-Pn-1|: 0.08626877896537821\n",
      "Iteracion 3, Pn: 1.9330542102400157, |Pn-Pn-1|: 0.01932298920539388\n",
      "Iteracion 4, Pn: 1.9337614641223735, |Pn-Pn-1|: 0.0007072538823578167\n"
     ]
    }
   ],
   "source": [
    "p0 = 1.5\n",
    "p1 = 2\n",
    "tol = 0.001\n",
    "max_iter = 100\n",
    "secante(f, p0, p1, tol, max_iter)"
   ]
  },
  {
   "cell_type": "code",
   "execution_count": null,
   "id": "a70e77f1-8603-46d8-a2b1-a0b3779b4b2a",
   "metadata": {},
   "outputs": [],
   "source": []
  }
 ],
 "metadata": {
  "kernelspec": {
   "display_name": "Python 3 (ipykernel)",
   "language": "python",
   "name": "python3"
  },
  "language_info": {
   "codemirror_mode": {
    "name": "ipython",
    "version": 3
   },
   "file_extension": ".py",
   "mimetype": "text/x-python",
   "name": "python",
   "nbconvert_exporter": "python",
   "pygments_lexer": "ipython3",
   "version": "3.10.4"
  }
 },
 "nbformat": 4,
 "nbformat_minor": 5
}
