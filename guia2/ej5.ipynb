{
 "cells": [
  {
   "cell_type": "markdown",
   "id": "e4045e33-81b2-4c3a-a031-6475a3e0aed2",
   "metadata": {},
   "source": [
    "# Ejercicio 5"
   ]
  },
  {
   "cell_type": "markdown",
   "id": "a98a5192-5022-4fd3-958b-714a7df55818",
   "metadata": {},
   "source": [
    "## Importar librerias"
   ]
  },
  {
   "cell_type": "code",
   "execution_count": 3,
   "id": "de057d64-7ffe-4368-93dd-bdaef463eace",
   "metadata": {},
   "outputs": [],
   "source": [
    "from punto_fijo_lib import punto_fijo, punto_fijo_error_riguroso"
   ]
  },
  {
   "cell_type": "markdown",
   "id": "da68831e-ba4f-47b9-bda1-cbc1ea384097",
   "metadata": {
    "tags": []
   },
   "source": [
    "## Funciones a utilizar"
   ]
  },
  {
   "cell_type": "code",
   "execution_count": 4,
   "id": "5b6a0a4e-6900-4612-8bcf-22a0687cdb9c",
   "metadata": {
    "jp-MarkdownHeadingCollapsed": true,
    "tags": []
   },
   "outputs": [],
   "source": [
    "from math import exp\n",
    "def g1(x):\n",
    "    return exp(x/4)"
   ]
  },
  {
   "cell_type": "markdown",
   "id": "ef8910d6-fcc1-468a-893b-aa707a48b238",
   "metadata": {},
   "source": [
    "## Ejecucion"
   ]
  },
  {
   "cell_type": "code",
   "execution_count": 5,
   "id": "585e46a5-4c8d-44eb-8630-bd5b6f0e505f",
   "metadata": {},
   "outputs": [
    {
     "name": "stdout",
     "output_type": "stream",
     "text": [
      "Iteracion 1, Pn: 1.4549914146182013, |Pn-Pn-1|: 0.04500858538179875\n",
      "Iteracion 2, Pn: 1.4387114025968424, |Pn-Pn-1|: 0.01628001202135887\n",
      "Iteracion 3, Pn: 1.432867742787596, |Pn-Pn-1|: 0.005843659809246393\n",
      "Iteracion 4, Pn: 1.4307759731982412, |Pn-Pn-1|: 0.0020917695893547528\n",
      "Iteracion 5, Pn: 1.4300279553829238, |Pn-Pn-1|: 0.0007480178153174144\n"
     ]
    }
   ],
   "source": [
    "p0 = 1.5\n",
    "tol = 10**-3\n",
    "max_iter = 100\n",
    "punto_fijo(g1, p0, tol, max_iter)"
   ]
  },
  {
   "cell_type": "markdown",
   "id": "cd0886ae-76cb-44aa-b162-a9de80056aec",
   "metadata": {},
   "source": [
    "### La cota de error de la teórica (la del Burden, la mejor y demostrada)"
   ]
  },
  {
   "cell_type": "code",
   "execution_count": 12,
   "id": "c258af66-404f-4680-ae1c-6a9ad5a6d563",
   "metadata": {},
   "outputs": [
    {
     "name": "stdout",
     "output_type": "stream",
     "text": [
      "0.0009213136811770843\n"
     ]
    }
   ],
   "source": [
    "k = 0.413\n",
    "dif_inic = 0.04500858538179875 #|P1-P0|\n",
    "n = 5\n",
    "print(f\"{(k**n/(1-k))*dif_inic}\")"
   ]
  },
  {
   "cell_type": "markdown",
   "id": "6f1b49eb-544d-49c1-9f1a-f9c5a131ac10",
   "metadata": {},
   "source": [
    "### La cota de error de la práctica (la que utilizamos)"
   ]
  },
  {
   "cell_type": "code",
   "execution_count": 14,
   "id": "bf6a8361-7e9c-424f-a1d0-1a7c204a0350",
   "metadata": {},
   "outputs": [
    {
     "name": "stdout",
     "output_type": "stream",
     "text": [
      "0.0005262885140137856\n"
     ]
    }
   ],
   "source": [
    "k = 0.413\n",
    "dif_final = 0.0007480178153174144\n",
    "print(f\"{(k/(1-k))*dif_final}\")"
   ]
  },
  {
   "cell_type": "markdown",
   "id": "af9c0226-ab72-4ed9-9c51-8170c6685b40",
   "metadata": {},
   "source": [
    "Notar que es peor la de la práctica, pero es mucho más facil de calcular"
   ]
  }
 ],
 "metadata": {
  "kernelspec": {
   "display_name": "Python 3 (ipykernel)",
   "language": "python",
   "name": "python3"
  },
  "language_info": {
   "codemirror_mode": {
    "name": "ipython",
    "version": 3
   },
   "file_extension": ".py",
   "mimetype": "text/x-python",
   "name": "python",
   "nbconvert_exporter": "python",
   "pygments_lexer": "ipython3",
   "version": "3.10.4"
  }
 },
 "nbformat": 4,
 "nbformat_minor": 5
}
