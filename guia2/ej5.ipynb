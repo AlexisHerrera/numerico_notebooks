{
 "cells": [
  {
   "cell_type": "markdown",
   "id": "e4045e33-81b2-4c3a-a031-6475a3e0aed2",
   "metadata": {},
   "source": [
    "# Ejercicio 5"
   ]
  },
  {
   "cell_type": "markdown",
   "id": "a98a5192-5022-4fd3-958b-714a7df55818",
   "metadata": {},
   "source": [
    "## Importar librerias"
   ]
  },
  {
   "cell_type": "code",
   "execution_count": 1,
   "id": "de057d64-7ffe-4368-93dd-bdaef463eace",
   "metadata": {},
   "outputs": [],
   "source": [
    "from punto_fijo_lib import punto_fijo, punto_fijo_error_riguroso"
   ]
  },
  {
   "cell_type": "markdown",
   "id": "da68831e-ba4f-47b9-bda1-cbc1ea384097",
   "metadata": {
    "tags": []
   },
   "source": [
    "## Funciones a utilizar"
   ]
  },
  {
   "cell_type": "code",
   "execution_count": 2,
   "id": "5b6a0a4e-6900-4612-8bcf-22a0687cdb9c",
   "metadata": {
    "jp-MarkdownHeadingCollapsed": true,
    "tags": []
   },
   "outputs": [],
   "source": [
    "from math import sin, sqrt\n",
    "def g1(x):\n",
    "    return 2*sqrt(sin(x))"
   ]
  },
  {
   "cell_type": "markdown",
   "id": "ef8910d6-fcc1-468a-893b-aa707a48b238",
   "metadata": {},
   "source": [
    "## Ejecucion"
   ]
  },
  {
   "cell_type": "code",
   "execution_count": 3,
   "id": "585e46a5-4c8d-44eb-8630-bd5b6f0e505f",
   "metadata": {},
   "outputs": [
    {
     "name": "stdout",
     "output_type": "stream",
     "text": [
      "Iteracion 1, Pn: 1.9839213158529618, |Pn-Pn-1|: 0.23392131585296183\n",
      "Iteracion 2, Pn: 1.9140226717169333, |Pn-Pn-1|: 0.06989864413602853\n",
      "Iteracion 3, Pn: 1.9407975848131542, |Pn-Pn-1|: 0.02677491309622093\n",
      "Iteracion 4, Pn: 1.9311415180524507, |Pn-Pn-1|: 0.009656066760703519\n",
      "Iteracion 5, Pn: 1.9347094520216015, |Pn-Pn-1|: 0.0035679339691507828\n",
      "Iteracion 6, Pn: 1.933402357020561, |Pn-Pn-1|: 0.0013070950010405369\n",
      "Iteracion 7, Pn: 1.933882736256158, |Pn-Pn-1|: 0.0004803792355969616\n",
      "Iteracion 8, Pn: 1.9337063947150008, |Pn-Pn-1|: 0.0001763415411570879\n",
      "Iteracion 9, Pn: 1.93377115539908, |Pn-Pn-1|: 6.476068407912372e-05\n",
      "Iteracion 10, Pn: 1.9337473760574622, |Pn-Pn-1|: 2.377934161779116e-05\n",
      "Iteracion 11, Pn: 1.9337561080498085, |Pn-Pn-1|: 8.731992346300288e-06\n",
      "Iteracion 12, Pn: 1.9337529016502306, |Pn-Pn-1|: 3.2063995778486287e-06\n",
      "Iteracion 13, Pn: 1.9337540790537406, |Pn-Pn-1|: 1.177403510022046e-06\n",
      "Iteracion 14, Pn: 1.9337536467074214, |Pn-Pn-1|: 4.3234631919020217e-07\n"
     ]
    }
   ],
   "source": [
    "p0 = 1.75\n",
    "tol = 10**-6\n",
    "max_iter = 100\n",
    "punto_fijo(g1, p0, tol, max_iter)"
   ]
  },
  {
   "cell_type": "code",
   "execution_count": 5,
   "id": "9062d619-edec-46f1-a64b-b165c967dae4",
   "metadata": {},
   "outputs": [
    {
     "name": "stdout",
     "output_type": "stream",
     "text": [
      "Iteracion 1, Pn: 1.9839213158529618, (k/1-k)*|Pn-Pn-1|: 0.18156947607059382\n",
      "Iteracion 2, Pn: 1.9140226717169333, (k/1-k)*|Pn-Pn-1|: 0.05425525308604701\n",
      "Iteracion 3, Pn: 1.9407975848131542, (k/1-k)*|Pn-Pn-1|: 0.020782659010743422\n",
      "Iteracion 4, Pn: 1.9311415180524507, (k/1-k)*|Pn-Pn-1|: 0.007495028729000778\n",
      "Iteracion 5, Pn: 1.9347094520216015, (k/1-k)*|Pn-Pn-1|: 0.0027694265444385296\n",
      "Iteracion 6, Pn: 1.933402357020561, (k/1-k)*|Pn-Pn-1|: 0.001014565746811216\n",
      "Iteracion 7, Pn: 1.933882736256158, (k/1-k)*|Pn-Pn-1|: 0.0003728698507209098\n",
      "Iteracion 8, Pn: 1.9337063947150008, (k/1-k)*|Pn-Pn-1|: 0.00013687611631553714\n",
      "Iteracion 9, Pn: 1.93377115539908, (k/1-k)*|Pn-Pn-1|: 5.0267173965501006e-05\n",
      "Iteracion 10, Pn: 1.9337473760574622, (k/1-k)*|Pn-Pn-1|: 1.8457499621624756e-05\n",
      "Iteracion 11, Pn: 1.9337561080498085, (k/1-k)*|Pn-Pn-1|: 6.777763153344984e-06\n",
      "Iteracion 12, Pn: 1.9337529016502306, (k/1-k)*|Pn-Pn-1|: 2.488803935203998e-06\n",
      "Iteracion 13, Pn: 1.9337540790537406, (k/1-k)*|Pn-Pn-1|: 9.138993496973962e-07\n"
     ]
    }
   ],
   "source": [
    "p0 = 1.75\n",
    "tol = 10**-6\n",
    "max_iter = 100\n",
    "k = 0.437\n",
    "punto_fijo_error_riguroso(g1, p0, tol, max_iter, k)"
   ]
  }
 ],
 "metadata": {
  "kernelspec": {
   "display_name": "Python 3 (ipykernel)",
   "language": "python",
   "name": "python3"
  },
  "language_info": {
   "codemirror_mode": {
    "name": "ipython",
    "version": 3
   },
   "file_extension": ".py",
   "mimetype": "text/x-python",
   "name": "python",
   "nbconvert_exporter": "python",
   "pygments_lexer": "ipython3",
   "version": "3.10.4"
  }
 },
 "nbformat": 4,
 "nbformat_minor": 5
}
