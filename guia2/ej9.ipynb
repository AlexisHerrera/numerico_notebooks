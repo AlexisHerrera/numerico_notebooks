{
 "cells": [
  {
   "cell_type": "markdown",
   "id": "3a63aa10-576a-486b-9d62-fed060d92af8",
   "metadata": {},
   "source": [
    "## Ejercicio 7"
   ]
  },
  {
   "cell_type": "markdown",
   "id": "46a450bb-1f55-499d-b9dc-9f893c862057",
   "metadata": {
    "tags": []
   },
   "source": [
    "## Importar librerias"
   ]
  },
  {
   "cell_type": "code",
   "execution_count": 21,
   "id": "7def8f01-5279-4a16-b7ff-62f4ab67567d",
   "metadata": {},
   "outputs": [],
   "source": [
    "from newton_raphson import newton_raphson"
   ]
  },
  {
   "cell_type": "markdown",
   "id": "a7684fd0-6d02-40dd-9498-8c737823c6ef",
   "metadata": {
    "tags": []
   },
   "source": [
    "## Funciones a utilizar"
   ]
  },
  {
   "cell_type": "code",
   "execution_count": 22,
   "id": "3643365d-4011-40e3-8343-d38f4dc5a733",
   "metadata": {
    "jp-MarkdownHeadingCollapsed": true,
    "tags": []
   },
   "outputs": [],
   "source": [
    "from math import exp\n",
    "def f(x):\n",
    "    return x-1+exp(-2*x)\n",
    "def f_prima(x):\n",
    "    return 1-2*exp(-2*x)"
   ]
  },
  {
   "cell_type": "markdown",
   "id": "9bb4b4ea-f873-499a-85e3-f7da0468d3e6",
   "metadata": {},
   "source": [
    "## Ejecucion"
   ]
  },
  {
   "cell_type": "code",
   "execution_count": 23,
   "id": "9bd25f13-284c-4e47-bad0-66b1648e2219",
   "metadata": {},
   "outputs": [
    {
     "name": "stdout",
     "output_type": "stream",
     "text": [
      "Iteracion 1, Pn: 0.8144387474091372, |Pn-Pn-1|: 0.18556125259086276\n",
      "Iteracion 2, Pn: 0.7970150777144943, |Pn-Pn-1|: 0.01742366969464293\n",
      "Iteracion 3, Pn: 0.7968121582003599, |Pn-Pn-1|: 0.00020291951413442533\n",
      "Iteracion 4, Pn: 0.7968121300200206, |Pn-Pn-1|: 2.818033928431163e-08\n",
      "Iteracion 5, Pn: 0.79681213002002, |Pn-Pn-1|: 5.551115123125783e-16\n"
     ]
    }
   ],
   "source": [
    "p0 = 1\n",
    "tol = 10**-10\n",
    "max_iter = 100\n",
    "newton_raphson(f, f_prima, p0, tol, max_iter)"
   ]
  },
  {
   "cell_type": "code",
   "execution_count": null,
   "id": "16a4b420-8060-4d72-a3ce-9a7a53003a25",
   "metadata": {},
   "outputs": [],
   "source": []
  }
 ],
 "metadata": {
  "kernelspec": {
   "display_name": "Python 3 (ipykernel)",
   "language": "python",
   "name": "python3"
  },
  "language_info": {
   "codemirror_mode": {
    "name": "ipython",
    "version": 3
   },
   "file_extension": ".py",
   "mimetype": "text/x-python",
   "name": "python",
   "nbconvert_exporter": "python",
   "pygments_lexer": "ipython3",
   "version": "3.10.4"
  }
 },
 "nbformat": 4,
 "nbformat_minor": 5
}
