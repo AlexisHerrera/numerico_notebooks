{
 "cells": [
  {
   "cell_type": "markdown",
   "id": "3a63aa10-576a-486b-9d62-fed060d92af8",
   "metadata": {},
   "source": [
    "## Ejercicio 10"
   ]
  },
  {
   "cell_type": "markdown",
   "id": "46a450bb-1f55-499d-b9dc-9f893c862057",
   "metadata": {
    "tags": []
   },
   "source": [
    "## Importar librerias"
   ]
  },
  {
   "cell_type": "code",
   "execution_count": 1,
   "id": "7def8f01-5279-4a16-b7ff-62f4ab67567d",
   "metadata": {},
   "outputs": [],
   "source": [
    "from newton_raphson import newton_raphson"
   ]
  },
  {
   "cell_type": "markdown",
   "id": "a7684fd0-6d02-40dd-9498-8c737823c6ef",
   "metadata": {
    "tags": []
   },
   "source": [
    "## Funciones a utilizar"
   ]
  },
  {
   "cell_type": "code",
   "execution_count": 11,
   "id": "3643365d-4011-40e3-8343-d38f4dc5a733",
   "metadata": {
    "jp-MarkdownHeadingCollapsed": true,
    "tags": []
   },
   "outputs": [],
   "source": [
    "from math import log\n",
    "def f(x):\n",
    "    return x*log(x)-1\n",
    "def f_prima(x):\n",
    "    return log(x)+1"
   ]
  },
  {
   "cell_type": "markdown",
   "id": "9bb4b4ea-f873-499a-85e3-f7da0468d3e6",
   "metadata": {},
   "source": [
    "## Ejecucion"
   ]
  },
  {
   "cell_type": "code",
   "execution_count": 12,
   "id": "9bd25f13-284c-4e47-bad0-66b1648e2219",
   "metadata": {},
   "outputs": [
    {
     "name": "stdout",
     "output_type": "stream",
     "text": [
      "Iteracion 1, Pn: 2.0, |Pn-Pn-1|: 1.0\n",
      "Iteracion 2, Pn: 1.7718483274489238, |Pn-Pn-1|: 0.22815167255107616\n",
      "Iteracion 3, Pn: 1.7632362113366402, |Pn-Pn-1|: 0.00861211611228363\n",
      "Iteracion 4, Pn: 1.7632228343842757, |Pn-Pn-1|: 1.3376952364474448e-05\n",
      "Iteracion 5, Pn: 1.7632228343518968, |Pn-Pn-1|: 3.2378988379377915e-11\n"
     ]
    }
   ],
   "source": [
    "p0 = 1\n",
    "tol = 10**-10\n",
    "max_iter = 100\n",
    "newton_raphson(f, f_prima, p0, tol, max_iter)"
   ]
  },
  {
   "cell_type": "code",
   "execution_count": null,
   "id": "5fca5ec5-158a-4287-850b-9921d5326601",
   "metadata": {},
   "outputs": [],
   "source": []
  }
 ],
 "metadata": {
  "kernelspec": {
   "display_name": "Python 3 (ipykernel)",
   "language": "python",
   "name": "python3"
  },
  "language_info": {
   "codemirror_mode": {
    "name": "ipython",
    "version": 3
   },
   "file_extension": ".py",
   "mimetype": "text/x-python",
   "name": "python",
   "nbconvert_exporter": "python",
   "pygments_lexer": "ipython3",
   "version": "3.10.4"
  }
 },
 "nbformat": 4,
 "nbformat_minor": 5
}
