{
 "cells": [
  {
   "cell_type": "markdown",
   "id": "eb770c79-bc30-4cbb-a2dc-61d4d1038f18",
   "metadata": {
    "tags": []
   },
   "source": [
    "## Importar algoritmos"
   ]
  },
  {
   "cell_type": "code",
   "execution_count": 1,
   "id": "7d2d2f8a-38b9-4861-b02a-6b4775b728ca",
   "metadata": {},
   "outputs": [],
   "source": [
    "from biseccion_lib import *"
   ]
  },
  {
   "cell_type": "markdown",
   "id": "926f2d39-a42f-41ba-8522-84d0350bc112",
   "metadata": {},
   "source": [
    "### Funcion a evaluar"
   ]
  },
  {
   "cell_type": "code",
   "execution_count": 2,
   "id": "0cb39010-27fa-4d92-8df6-a6af084fd67c",
   "metadata": {},
   "outputs": [],
   "source": [
    "import math\n",
    "def fun1(x):    \n",
    "    return ((x**2)/4) - math.sin(x)\n"
   ]
  },
  {
   "cell_type": "markdown",
   "id": "8c381440-7f6d-4932-aa28-4728b333536e",
   "metadata": {},
   "source": [
    "## Ejecucion de algoritmo en intervalo [1;2]"
   ]
  },
  {
   "cell_type": "code",
   "execution_count": 3,
   "id": "a0d6f952-5632-40f8-a8db-96852618ef51",
   "metadata": {},
   "outputs": [
    {
     "name": "stdout",
     "output_type": "stream",
     "text": [
      "Empieza el algoritmo de bisección clasico para a:1, b:2, tol:0.02 y max_iter:6\n",
      "Iteracion 1, a:1, b:2, c:1.5, f(c):-0.43499498660405445, (b-a)/2 = 0.5\n",
      "Iteracion 2, a:1.5, b:2, c:1.75, f(c):-0.21836094687393692, (b-a)/2 = 0.25\n",
      "Iteracion 3, a:1.75, b:2, c:1.875, f(c):-0.07517953160969382, (b-a)/2 = 0.125\n",
      "Iteracion 4, a:1.875, b:2, c:1.9375, f(c):0.0049622816376238, (b-a)/2 = 0.0625\n",
      "Iteracion 5, a:1.875, b:1.9375, c:1.90625, f(c):-0.035813793060754495, (b-a)/2 = 0.03125\n",
      "Iteracion 6, a:1.90625, b:1.9375, c:1.921875, f(c):-0.015601412838988415, (b-a)/2 = 0.015625\n",
      "Resultado final: 1.921875\n"
     ]
    }
   ],
   "source": [
    "a = 1\n",
    "b = 2\n",
    "tol = 0.02\n",
    "max_iter = max_iteraciones_biseccion(a, b, tol)\n",
    "print(f\"Empieza el algoritmo de bisección clasico para a:{a}, b:{b}, tol:{tol} y max_iter:{max_iter}\")\n",
    "biseccion(fun1, a, b, tol, max_iter)"
   ]
  },
  {
   "cell_type": "code",
   "execution_count": 4,
   "id": "24008181-f3f2-40b7-81ef-3b6794c8f55d",
   "metadata": {},
   "outputs": [
    {
     "name": "stdout",
     "output_type": "stream",
     "text": [
      "Empieza el algoritmo de bisección error relativo para a:1, b:2, tol:0.02 y max_iter:6\n",
      "Iteracion 1, a:1, b:2, c:1.5, f(c):-0.43499498660405445, |Pn-Pn-1|/|Pn| = -\n",
      "Iteracion 2, a:1.5, b:2, c:1.75, f(c):-0.21836094687393692, |Pn-Pn-1|/|Pn| = 0.14285714285714285\n",
      "Iteracion 3, a:1.75, b:2, c:1.875, f(c):-0.07517953160969382, |Pn-Pn-1|/|Pn| = 0.06666666666666667\n",
      "Iteracion 4, a:1.875, b:2, c:1.9375, f(c):0.0049622816376238, |Pn-Pn-1|/|Pn| = 0.03225806451612903\n",
      "Iteracion 5, a:1.875, b:1.9375, c:1.90625, f(c):-0.035813793060754495, |Pn-Pn-1|/|Pn| = 0.01639344262295082\n",
      "Resultado final: 1.90625\n"
     ]
    }
   ],
   "source": [
    "a = 1\n",
    "b = 2\n",
    "tol = 0.02\n",
    "max_iter = max_iteraciones_biseccion(a, b, tol)\n",
    "print(f\"Empieza el algoritmo de bisección error relativo para a:{a}, b:{b}, tol:{tol} y max_iter:{max_iter}\")\n",
    "biseccion_error_relativo(fun1, a, b, tol, max_iter)"
   ]
  },
  {
   "cell_type": "code",
   "execution_count": null,
   "id": "2c5fd49d-9879-416d-a799-8dcedd5e59ad",
   "metadata": {},
   "outputs": [],
   "source": []
  }
 ],
 "metadata": {
  "kernelspec": {
   "display_name": "Python 3 (ipykernel)",
   "language": "python",
   "name": "python3"
  },
  "language_info": {
   "codemirror_mode": {
    "name": "ipython",
    "version": 3
   },
   "file_extension": ".py",
   "mimetype": "text/x-python",
   "name": "python",
   "nbconvert_exporter": "python",
   "pygments_lexer": "ipython3",
   "version": "3.10.4"
  }
 },
 "nbformat": 4,
 "nbformat_minor": 5
}
