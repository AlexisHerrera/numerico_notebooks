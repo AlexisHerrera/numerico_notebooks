{
 "cells": [
  {
   "cell_type": "markdown",
   "id": "3a63aa10-576a-486b-9d62-fed060d92af8",
   "metadata": {},
   "source": [
    "## Ejercicio 12"
   ]
  },
  {
   "cell_type": "markdown",
   "id": "46a450bb-1f55-499d-b9dc-9f893c862057",
   "metadata": {
    "tags": []
   },
   "source": [
    "## Importar librerias"
   ]
  },
  {
   "cell_type": "code",
   "execution_count": 1,
   "id": "7def8f01-5279-4a16-b7ff-62f4ab67567d",
   "metadata": {},
   "outputs": [],
   "source": [
    "from newton_raphson import newton_raphson, newton_raphson_modificado"
   ]
  },
  {
   "cell_type": "markdown",
   "id": "a7684fd0-6d02-40dd-9498-8c737823c6ef",
   "metadata": {
    "tags": []
   },
   "source": [
    "## Funciones a utilizar"
   ]
  },
  {
   "cell_type": "code",
   "execution_count": 3,
   "id": "3643365d-4011-40e3-8343-d38f4dc5a733",
   "metadata": {
    "jp-MarkdownHeadingCollapsed": true,
    "tags": []
   },
   "outputs": [],
   "source": [
    "from math import log\n",
    "def f(x):\n",
    "    return x**3 - 9*x**2+ 24*x - 20\n",
    "def f_prima(x):\n",
    "    return 3*x**2 - 18*x + 24\n",
    "def f_prima_prima(x):\n",
    "    return 6*x-18"
   ]
  },
  {
   "cell_type": "markdown",
   "id": "9bb4b4ea-f873-499a-85e3-f7da0468d3e6",
   "metadata": {},
   "source": [
    "## Ejecucion"
   ]
  },
  {
   "cell_type": "code",
   "execution_count": 4,
   "id": "9bd25f13-284c-4e47-bad0-66b1648e2219",
   "metadata": {},
   "outputs": [
    {
     "name": "stdout",
     "output_type": "stream",
     "text": [
      "Iteracion 1, Pn: 1.7333333333333334, |Pn-Pn-1|: 0.2333333333333334\n",
      "Iteracion 2, Pn: 1.8614379084967327, |Pn-Pn-1|: 0.12810457516339935\n",
      "Iteracion 3, Pn: 1.929222664344193, |Pn-Pn-1|: 0.06778475584746024\n",
      "Iteracion 4, Pn: 1.9642081477288849, |Pn-Pn-1|: 0.03498548338469187\n",
      "Iteracion 5, Pn: 1.9819991960263952, |Pn-Pn-1|: 0.017791048297510326\n",
      "Iteracion 6, Pn: 1.9909728364659238, |Pn-Pn-1|: 0.00897364043952864\n",
      "Iteracion 7, Pn: 1.9954796579392045, |Pn-Pn-1|: 0.004506821473280631\n",
      "Iteracion 8, Pn: 1.9977381300184471, |Pn-Pn-1|: 0.0022584720792426793\n",
      "Iteracion 9, Pn: 1.9988686391531434, |Pn-Pn-1|: 0.001130509134696256\n",
      "Iteracion 10, Pn: 1.9994342129725233, |Pn-Pn-1|: 0.0005655738193799387\n",
      "Iteracion 11, Pn: 1.999717079816519, |Pn-Pn-1|: 0.00028286684399558837\n",
      "Iteracion 12, Pn: 1.9998585332388241, |Pn-Pn-1|: 0.0001414534223052044\n",
      "Iteracion 13, Pn: 1.9999292649570997, |Pn-Pn-1|: 7.07317182755407e-05\n",
      "Iteracion 14, Pn: 1.999964632058207, |Pn-Pn-1|: 3.536710110729757e-05\n",
      "Iteracion 15, Pn: 1.9999823159373018, |Pn-Pn-1|: 1.7683879094843036e-05\n",
      "Iteracion 16, Pn: 1.9999911580346885, |Pn-Pn-1|: 8.842097386718706e-06\n",
      "Iteracion 17, Pn: 1.9999955791024635, |Pn-Pn-1|: 4.421067774984522e-06\n",
      "Iteracion 18, Pn: 1.999997789583347, |Pn-Pn-1|: 2.210480883446664e-06\n",
      "Iteracion 19, Pn: 1.9999988948410687, |Pn-Pn-1|: 1.1052577217895987e-06\n",
      "Iteracion 20, Pn: 1.9999994466912694, |Pn-Pn-1|: 5.51850200647408e-07\n",
      "Iteracion 21, Pn: 1.999999722787845, |Pn-Pn-1|: 2.7609657560212497e-07\n",
      "Iteracion 22, Pn: 1.9999998616263681, |Pn-Pn-1|: 1.388385231226863e-07\n",
      "Iteracion 23, Pn: 1.9999999386507274, |Pn-Pn-1|: 7.702435933509832e-08\n",
      "Iteracion 24, Pn: 1.9999999579539367, |Pn-Pn-1|: 1.9303209253251907e-08\n",
      "Iteracion 25, Pn: 1.9999999720365615, |Pn-Pn-1|: 1.4082624844036218e-08\n",
      "Iteracion 26, Pn: 1.9999999932113157, |Pn-Pn-1|: 2.1174754172292864e-08\n",
      "Iteracion 27, Pn: 1.9999999059898608, |Pn-Pn-1|: 8.722145494743927e-08\n",
      "Iteracion 28, Pn: 1.9999999563775253, |Pn-Pn-1|: 5.03876644852852e-08\n",
      "Iteracion 29, Pn: 1.99999998352495, |Pn-Pn-1|: 2.7147424752627103e-08\n",
      "Iteracion 30, Pn: 2.000000019465293, |Pn-Pn-1|: 3.5940342923979074e-08\n",
      "Iteracion 31, Pn: 1.9999999890460778, |Pn-Pn-1|: 3.041921514679302e-08\n",
      "Iteracion 32, Pn: 1.9999999890460778, |Pn-Pn-1|: 0.0\n"
     ]
    }
   ],
   "source": [
    "p0 = 1.5\n",
    "tol = 10**-10\n",
    "max_iter = 100\n",
    "newton_raphson(f, f_prima, p0, tol, max_iter)"
   ]
  },
  {
   "cell_type": "code",
   "execution_count": 5,
   "id": "f06fbf48-c49c-4bc9-855a-a189cc7384b4",
   "metadata": {},
   "outputs": [
    {
     "name": "stdout",
     "output_type": "stream",
     "text": [
      "Iteracion 1, Pn: 2.0303030303030303, |Pn-Pn-1|: 0.5303030303030303\n",
      "Iteracion 2, Pn: 2.000156176792065, |Pn-Pn-1|: 0.030146853510965244\n",
      "Iteracion 3, Pn: 2.0000000040807704, |Pn-Pn-1|: 0.00015617271129464427\n",
      "Iteracion 4, Pn: 2.0000000082796294, |Pn-Pn-1|: 4.1988590382402435e-09\n",
      "Iteracion 5, Pn: 2.0000000082796294, |Pn-Pn-1|: 0.0\n"
     ]
    }
   ],
   "source": [
    "p0 = 1.5\n",
    "tol = 10**-10\n",
    "max_iter = 100\n",
    "newton_raphson_modificado(f, f_prima, f_prima_prima, p0, tol, max_iter)"
   ]
  },
  {
   "cell_type": "code",
   "execution_count": null,
   "id": "af9aae5b-2223-41f7-b844-b27c2efb6f5e",
   "metadata": {},
   "outputs": [],
   "source": []
  }
 ],
 "metadata": {
  "kernelspec": {
   "display_name": "Python 3 (ipykernel)",
   "language": "python",
   "name": "python3"
  },
  "language_info": {
   "codemirror_mode": {
    "name": "ipython",
    "version": 3
   },
   "file_extension": ".py",
   "mimetype": "text/x-python",
   "name": "python",
   "nbconvert_exporter": "python",
   "pygments_lexer": "ipython3",
   "version": "3.10.4"
  }
 },
 "nbformat": 4,
 "nbformat_minor": 5
}
