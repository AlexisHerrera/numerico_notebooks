{
 "cells": [
  {
   "cell_type": "markdown",
   "id": "b8e28d85-6721-47e8-a283-6eb60a36b8c9",
   "metadata": {},
   "source": [
    "## Importar algoritmos"
   ]
  },
  {
   "cell_type": "code",
   "execution_count": 1,
   "id": "e4e5bc6f-5304-4959-b45b-a888154fe24b",
   "metadata": {},
   "outputs": [],
   "source": [
    "from biseccion_lib import *"
   ]
  },
  {
   "cell_type": "markdown",
   "id": "6802a554-87ac-46e9-b165-118a507e51cb",
   "metadata": {},
   "source": [
    "### Funcion a evaluar"
   ]
  },
  {
   "cell_type": "code",
   "execution_count": 32,
   "id": "05e191ed-2197-4545-a356-64051579ed2d",
   "metadata": {},
   "outputs": [],
   "source": [
    "import math\n",
    "def log_inf(x):\n",
    "    if x <= 0:\n",
    "        return float('-inf')\n",
    "    return math.log(x)\n",
    "def fun1(x):    \n",
    "    return x*math.cos(x)-log_inf(x)\n",
    "def fun2(x):\n",
    "    return 2*x-math.exp(-x)\n",
    "def fun3(x):\n",
    "    return math.exp(-2*x)+x-1"
   ]
  },
  {
   "cell_type": "markdown",
   "id": "260263af-f406-473b-9fd5-c96ee37cc79f",
   "metadata": {
    "tags": []
   },
   "source": [
    "## Funcion 1"
   ]
  },
  {
   "cell_type": "code",
   "execution_count": 29,
   "id": "fb56b1d7-256d-483d-ac0e-3d733bb1315b",
   "metadata": {},
   "outputs": [
    {
     "name": "stdout",
     "output_type": "stream",
     "text": [
      "Empieza el algoritmo de bisección clasico para a:0, b:1.6, tol:0.02 y max_iter:7\n",
      "Iteracion 1, a:0, b:1.6, c:0.8, (b-a)/2 = 0.8, f(c):0.7805089187919421\n",
      "Iteracion 2, a:0.8, b:1.6, c:1.2000000000000002, (b-a)/2 = 0.4, f(c):0.25250774857805336\n",
      "Iteracion 3, a:1.2000000000000002, b:1.6, c:1.4000000000000001, (b-a)/2 = 0.19999999999999996, f(c):-0.09851823656087585\n",
      "Iteracion 4, a:1.2000000000000002, b:1.4000000000000001, c:1.3000000000000003, (b-a)/2 = 0.09999999999999998, f(c):0.08538421274447205\n",
      "Iteracion 5, a:1.3000000000000003, b:1.4000000000000001, c:1.35, (b-a)/2 = 0.04999999999999993, f(c):-0.004445564874732133\n",
      "Iteracion 6, a:1.3000000000000003, b:1.35, c:1.3250000000000002, (b-a)/2 = 0.02499999999999991, f(c):0.04099819280610978\n",
      "Iteracion 7, a:1.3250000000000002, b:1.35, c:1.3375000000000001, (b-a)/2 = 0.012499999999999956, f(c):0.018408810086613436\n",
      "Resultado final: 1.3375000000000001\n"
     ]
    }
   ],
   "source": [
    "a = 0\n",
    "b = 1.6\n",
    "tol = 0.02\n",
    "max_iter = max_iteraciones_biseccion(a, b, tol)\n",
    "print(f\"Empieza el algoritmo de bisección clasico para a:{a}, b:{b}, tol:{tol} y max_iter:{max_iter}\")\n",
    "biseccion(fun1, a, b, tol, max_iter)"
   ]
  },
  {
   "cell_type": "markdown",
   "id": "a7b468aa-79aa-447b-8187-b31b5a3cfa1e",
   "metadata": {
    "tags": []
   },
   "source": [
    "## Funcion 2"
   ]
  },
  {
   "cell_type": "code",
   "execution_count": 31,
   "id": "442cda12-f955-430d-8c0f-b6db8718c48c",
   "metadata": {},
   "outputs": [
    {
     "name": "stdout",
     "output_type": "stream",
     "text": [
      "Empieza el algoritmo de bisección clasico para a:0, b:1.6, tol:0.02 y max_iter:7\n",
      "Iteracion 1, a:0, b:1.6, c:0.8, (b-a)/2 = 0.8, f(c):1.1506710358827785\n",
      "Iteracion 2, a:0, b:0.8, c:0.4, (b-a)/2 = 0.4, f(c):0.12967995396436072\n",
      "Iteracion 3, a:0, b:0.4, c:0.2, (b-a)/2 = 0.2, f(c):-0.4187307530779818\n",
      "Iteracion 4, a:0.2, b:0.4, c:0.30000000000000004, (b-a)/2 = 0.1, f(c):-0.1408182206817178\n",
      "Iteracion 5, a:0.30000000000000004, b:0.4, c:0.35000000000000003, (b-a)/2 = 0.04999999999999999, f(c):-0.004688089718713373\n",
      "Iteracion 6, a:0.35000000000000003, b:0.4, c:0.375, (b-a)/2 = 0.024999999999999994, f(c):0.06271072120902776\n",
      "Iteracion 7, a:0.35000000000000003, b:0.375, c:0.36250000000000004, (b-a)/2 = 0.012499999999999983, f(c):0.029065686321358086\n",
      "Resultado final: 0.36250000000000004\n"
     ]
    }
   ],
   "source": [
    "a = 0\n",
    "b = 1.6\n",
    "tol = 0.02\n",
    "max_iter = max_iteraciones_biseccion(a, b, tol)\n",
    "print(f\"Empieza el algoritmo de bisección clasico para a:{a}, b:{b}, tol:{tol} y max_iter:{max_iter}\")\n",
    "biseccion(fun2, a, b, tol, max_iter)"
   ]
  },
  {
   "cell_type": "code",
   "execution_count": null,
   "id": "f6eb49cc-ecd5-4715-93b7-02d41c56ecad",
   "metadata": {},
   "outputs": [],
   "source": []
  },
  {
   "cell_type": "markdown",
   "id": "0ab05824-a757-4a3c-8c1d-16581ccbc540",
   "metadata": {
    "tags": []
   },
   "source": [
    "## Funcion 3"
   ]
  },
  {
   "cell_type": "code",
   "execution_count": 33,
   "id": "bea1c766-c2bc-4040-bf7d-ca36fb35e480",
   "metadata": {},
   "outputs": [
    {
     "name": "stdout",
     "output_type": "stream",
     "text": [
      "Empieza el algoritmo de bisección clasico para a:0, b:1.6, tol:0.02 y max_iter:7\n",
      "Iteracion 1, a:0, b:1.6, c:0.8, (b-a)/2 = 0.8, f(c):0.001896517994655511\n",
      "Iteracion 2, a:0.8, b:1.6, c:1.2000000000000002, (b-a)/2 = 0.4, f(c):0.29071795328941263\n",
      "Iteracion 3, a:1.2000000000000002, b:1.6, c:1.4000000000000001, (b-a)/2 = 0.19999999999999996, f(c):0.46081006262521806\n",
      "Iteracion 4, a:1.4000000000000001, b:1.6, c:1.5, (b-a)/2 = 0.09999999999999998, f(c):0.5497870683678638\n",
      "Iteracion 5, a:1.5, b:1.6, c:1.55, (b-a)/2 = 0.050000000000000044, f(c):0.5950492023935579\n",
      "Iteracion 6, a:1.55, b:1.6, c:1.5750000000000002, (b-a)/2 = 0.025000000000000022, f(c):0.6178521268670403\n",
      "Iteracion 7, a:1.5750000000000002, b:1.6, c:1.5875000000000001, (b-a)/2 = 0.012499999999999956, f(c):0.62929410408492\n",
      "Resultado final: 1.5875000000000001\n"
     ]
    }
   ],
   "source": [
    "a = 0\n",
    "b = 1.6\n",
    "tol = 0.02\n",
    "max_iter = max_iteraciones_biseccion(a, b, tol)\n",
    "print(f\"Empieza el algoritmo de bisección clasico para a:{a}, b:{b}, tol:{tol} y max_iter:{max_iter}\")\n",
    "biseccion(fun3, a, b, tol, max_iter)"
   ]
  },
  {
   "cell_type": "code",
   "execution_count": null,
   "id": "3a82572e-dfce-4671-be5d-6c4ce18d0b64",
   "metadata": {},
   "outputs": [],
   "source": []
  }
 ],
 "metadata": {
  "kernelspec": {
   "display_name": "Python 3 (ipykernel)",
   "language": "python",
   "name": "python3"
  },
  "language_info": {
   "codemirror_mode": {
    "name": "ipython",
    "version": 3
   },
   "file_extension": ".py",
   "mimetype": "text/x-python",
   "name": "python",
   "nbconvert_exporter": "python",
   "pygments_lexer": "ipython3",
   "version": "3.10.4"
  }
 },
 "nbformat": 4,
 "nbformat_minor": 5
}
