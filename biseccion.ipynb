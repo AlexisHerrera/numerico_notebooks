{
 "cells": [
  {
   "cell_type": "markdown",
   "id": "d8ea9779-a2d5-4c11-bc7e-8401b8fd575c",
   "metadata": {},
   "source": [
    "## Utils\n"
   ]
  },
  {
   "cell_type": "code",
   "execution_count": 54,
   "id": "49983b8a-3c2e-4d58-800c-0f10cbf596e9",
   "metadata": {},
   "outputs": [],
   "source": [
    "import math\n",
    "def sign(x):\n",
    "    if x >= 0:\n",
    "        return 1\n",
    "    else:\n",
    "        return -1\n",
    "    \n",
    "### Dado los extremos del intervalo y la tolerancia buscada\n",
    "### se calcula la cantidad de iteraciones maximas necesarias\n",
    "### para el algoritmo de bisección\n",
    "def max_iteraciones_biseccion(a,b,tol):\n",
    "    return math.ceil( (math.log(b-a)-math.log(tol))/math.log(2))"
   ]
  },
  {
   "cell_type": "markdown",
   "id": "6802a554-87ac-46e9-b165-118a507e51cb",
   "metadata": {},
   "source": [
    "### Funcion a evaluar"
   ]
  },
  {
   "cell_type": "code",
   "execution_count": 55,
   "id": "05e191ed-2197-4545-a356-64051579ed2d",
   "metadata": {},
   "outputs": [],
   "source": [
    "def fun1(x):\n",
    "    return math.exp(x)*(math.cos(x)+math.sin(x)-2*x-2)\n"
   ]
  },
  {
   "cell_type": "markdown",
   "id": "260263af-f406-473b-9fd5-c96ee37cc79f",
   "metadata": {
    "tags": []
   },
   "source": [
    "# Bisección clásico"
   ]
  },
  {
   "cell_type": "code",
   "execution_count": 56,
   "id": "69db3563-5625-4bfe-ab44-a2147cabdc4e",
   "metadata": {},
   "outputs": [],
   "source": [
    "### Metodo de bisección clásico (criterio de corte (b-a)/2 < tol)\n",
    "### Precondiciones:\n",
    "### - f continua en el intervalo cerrado [a,b]\n",
    "### - f(a)*f(b)<0\n",
    "### Ejecuta el metodo de bisección con todos sus pasos intermedios\n",
    "def biseccion(f, a, b, tol, max_iter):\n",
    "    n = 1\n",
    "    while n <= max_iter:\n",
    "        c = (a+b)/2\n",
    "        print(f\"Iteracion {n}, a:{a}, b:{b}, c:{c}, (b-a)/2 = {(b-a)/2}\")\n",
    "        if f(c) == 0 or (b-a)/2 < tol:\n",
    "            print(f\"Resultado final: {c}\")\n",
    "            break\n",
    "        n += 1\n",
    "        if sign(f(c)) == sign(f(a)):\n",
    "            a = c\n",
    "        else:\n",
    "            b = c"
   ]
  },
  {
   "cell_type": "code",
   "execution_count": 57,
   "id": "fb56b1d7-256d-483d-ac0e-3d733bb1315b",
   "metadata": {},
   "outputs": [
    {
     "name": "stdout",
     "output_type": "stream",
     "text": [
      "Empieza el algoritmo de bisección clasico para a:-2.5, b:-0.5, tol:1e-05 y max_iter:18\n",
      "Iteracion 1, a:-2.5, b:-0.5, c:-1.5, (b-a)/2 = 1.0\n",
      "Iteracion 2, a:-1.5, b:-0.5, c:-1.0, (b-a)/2 = 0.5\n",
      "Iteracion 3, a:-1.5, b:-1.0, c:-1.25, (b-a)/2 = 0.25\n",
      "Iteracion 4, a:-1.5, b:-1.25, c:-1.375, (b-a)/2 = 0.125\n",
      "Iteracion 5, a:-1.5, b:-1.375, c:-1.4375, (b-a)/2 = 0.0625\n",
      "Iteracion 6, a:-1.4375, b:-1.375, c:-1.40625, (b-a)/2 = 0.03125\n",
      "Iteracion 7, a:-1.4375, b:-1.40625, c:-1.421875, (b-a)/2 = 0.015625\n",
      "Iteracion 8, a:-1.421875, b:-1.40625, c:-1.4140625, (b-a)/2 = 0.0078125\n",
      "Iteracion 9, a:-1.421875, b:-1.4140625, c:-1.41796875, (b-a)/2 = 0.00390625\n",
      "Iteracion 10, a:-1.421875, b:-1.41796875, c:-1.419921875, (b-a)/2 = 0.001953125\n",
      "Iteracion 11, a:-1.419921875, b:-1.41796875, c:-1.4189453125, (b-a)/2 = 0.0009765625\n",
      "Iteracion 12, a:-1.4189453125, b:-1.41796875, c:-1.41845703125, (b-a)/2 = 0.00048828125\n",
      "Iteracion 13, a:-1.41845703125, b:-1.41796875, c:-1.418212890625, (b-a)/2 = 0.000244140625\n",
      "Iteracion 14, a:-1.418212890625, b:-1.41796875, c:-1.4180908203125, (b-a)/2 = 0.0001220703125\n",
      "Iteracion 15, a:-1.418212890625, b:-1.4180908203125, c:-1.41815185546875, (b-a)/2 = 6.103515625e-05\n",
      "Iteracion 16, a:-1.418212890625, b:-1.41815185546875, c:-1.418182373046875, (b-a)/2 = 3.0517578125e-05\n",
      "Iteracion 17, a:-1.418182373046875, b:-1.41815185546875, c:-1.4181671142578125, (b-a)/2 = 1.52587890625e-05\n",
      "Iteracion 18, a:-1.418182373046875, b:-1.4181671142578125, c:-1.4181747436523438, (b-a)/2 = 7.62939453125e-06\n",
      "Resultado final: -1.4181747436523438\n"
     ]
    }
   ],
   "source": [
    "a = -2.5\n",
    "b = -0.5\n",
    "tol = 10**-5\n",
    "max_iter = max_iteraciones_biseccion(a, b, tol)\n",
    "print(f\"Empieza el algoritmo de bisección clasico para a:{a}, b:{b}, tol:{tol} y max_iter:{max_iter}\")\n",
    "biseccion(fun1, a, b, tol, max_iter)"
   ]
  },
  {
   "cell_type": "markdown",
   "id": "e9244906-5fad-4c13-9489-9179116efc2a",
   "metadata": {},
   "source": [
    "## Bisección error |Pn-Pn-1|"
   ]
  },
  {
   "cell_type": "code",
   "execution_count": 58,
   "id": "a5d6884c-3f7c-42bc-ae99-9aa11078d6a3",
   "metadata": {},
   "outputs": [],
   "source": [
    "### Metodo de bisección con criterio de corte |Pn - Pn-1| < TOL\n",
    "### Precondiciones:\n",
    "### - f continua en el intervalo cerrado [a,b]\n",
    "### - f(a)*f(b)<0\n",
    "### Ejecuta el metodo de bisección con todos sus pasos intermedios\n",
    "def biseccion_error_absoluto_anterior(f, a, b, tol, max_iter):\n",
    "    n = 1\n",
    "    c_anterior = None\n",
    "    \n",
    "    while n <= max_iter:\n",
    "        c = (a+b)/2\n",
    "        print(f\"Iteracion {n}, a:{a}, b:{b}, c:{c}, |Pn-Pn-1| = {'-' if c_anterior is None else abs(c-c_anterior)}\")\n",
    "        if f(c) == 0 or ((c_anterior is not None) and abs(c-c_anterior) < tol):\n",
    "            print(f\"Resultado final: {c}\")\n",
    "            break\n",
    "        n += 1\n",
    "        c_anterior = c\n",
    "        if sign(f(c)) == sign(f(a)):\n",
    "            a = c\n",
    "        else:\n",
    "            b = c"
   ]
  },
  {
   "cell_type": "code",
   "execution_count": 59,
   "id": "496ff282-daf5-4933-9efe-fe604433b676",
   "metadata": {},
   "outputs": [
    {
     "name": "stdout",
     "output_type": "stream",
     "text": [
      "Empieza el algoritmo con error |Pn-Pn-1| para a:-2.5, b:-0.5, tol:1e-05 y max_iter:18\n",
      "Iteracion 1, a:-2.5, b:-0.5, c:-1.5, |Pn-Pn-1| = -\n",
      "Iteracion 2, a:-1.5, b:-0.5, c:-1.0, |Pn-Pn-1| = 0.5\n",
      "Iteracion 3, a:-1.5, b:-1.0, c:-1.25, |Pn-Pn-1| = 0.25\n",
      "Iteracion 4, a:-1.5, b:-1.25, c:-1.375, |Pn-Pn-1| = 0.125\n",
      "Iteracion 5, a:-1.5, b:-1.375, c:-1.4375, |Pn-Pn-1| = 0.0625\n",
      "Iteracion 6, a:-1.4375, b:-1.375, c:-1.40625, |Pn-Pn-1| = 0.03125\n",
      "Iteracion 7, a:-1.4375, b:-1.40625, c:-1.421875, |Pn-Pn-1| = 0.015625\n",
      "Iteracion 8, a:-1.421875, b:-1.40625, c:-1.4140625, |Pn-Pn-1| = 0.0078125\n",
      "Iteracion 9, a:-1.421875, b:-1.4140625, c:-1.41796875, |Pn-Pn-1| = 0.00390625\n",
      "Iteracion 10, a:-1.421875, b:-1.41796875, c:-1.419921875, |Pn-Pn-1| = 0.001953125\n",
      "Iteracion 11, a:-1.419921875, b:-1.41796875, c:-1.4189453125, |Pn-Pn-1| = 0.0009765625\n",
      "Iteracion 12, a:-1.4189453125, b:-1.41796875, c:-1.41845703125, |Pn-Pn-1| = 0.00048828125\n",
      "Iteracion 13, a:-1.41845703125, b:-1.41796875, c:-1.418212890625, |Pn-Pn-1| = 0.000244140625\n",
      "Iteracion 14, a:-1.418212890625, b:-1.41796875, c:-1.4180908203125, |Pn-Pn-1| = 0.0001220703125\n",
      "Iteracion 15, a:-1.418212890625, b:-1.4180908203125, c:-1.41815185546875, |Pn-Pn-1| = 6.103515625e-05\n",
      "Iteracion 16, a:-1.418212890625, b:-1.41815185546875, c:-1.418182373046875, |Pn-Pn-1| = 3.0517578125e-05\n",
      "Iteracion 17, a:-1.418182373046875, b:-1.41815185546875, c:-1.4181671142578125, |Pn-Pn-1| = 1.52587890625e-05\n",
      "Iteracion 18, a:-1.418182373046875, b:-1.4181671142578125, c:-1.4181747436523438, |Pn-Pn-1| = 7.62939453125e-06\n",
      "Resultado final: -1.4181747436523438\n"
     ]
    }
   ],
   "source": [
    "a = -2.5\n",
    "b = -0.5\n",
    "tol = 10**-5\n",
    "max_iter = max_iteraciones_biseccion(a, b, tol)\n",
    "print(f\"Empieza el algoritmo con error |Pn-Pn-1| para a:{a}, b:{b}, tol:{tol} y max_iter:{max_iter}\")\n",
    "biseccion_error_absoluto_anterior(fun1, a, b, tol, max_iter)\n"
   ]
  },
  {
   "cell_type": "markdown",
   "id": "ee35c3f4-6d96-4f8a-be4e-d5b431afc80c",
   "metadata": {},
   "source": [
    "## Bisección error relativo |Pn-Pn-1|/|Pn|"
   ]
  },
  {
   "cell_type": "code",
   "execution_count": 60,
   "id": "7cc967e6-d908-4890-a981-d2bdd677a71a",
   "metadata": {},
   "outputs": [],
   "source": [
    "### Metodo de bisección con criterio de corte |Pn - Pn-1|/|Pn| < TOL\n",
    "### Precondiciones:\n",
    "### - f continua en el intervalo cerrado [a,b]\n",
    "### - f(a)*f(b)<0\n",
    "### Ejecuta el metodo de bisección con todos sus pasos intermedios\n",
    "def biseccion_error_relativo(f, a, b, tol, max_iter):\n",
    "    n = 1\n",
    "    c_anterior = None\n",
    "    \n",
    "    while n <= max_iter:\n",
    "        c = (a+b)/2\n",
    "        error_relativo = None if c_anterior is None else abs(c-c_anterior)/abs(c)\n",
    "        print(f\"Iteracion {n}, a:{a}, b:{b}, c:{c}, |Pn-Pn-1|/|Pn| = {'-' if error_relativo is None else error_relativo}\")\n",
    "        if f(c) == 0 or ((error_relativo is not None) and error_relativo < tol):\n",
    "            print(f\"Resultado final: {c}\")\n",
    "            break\n",
    "        n += 1\n",
    "        c_anterior = c\n",
    "        if sign(f(c)) == sign(f(a)):\n",
    "            a = c\n",
    "        else:\n",
    "            b = c"
   ]
  },
  {
   "cell_type": "code",
   "execution_count": 61,
   "id": "08ceb11c-88d8-42f9-86e7-0acb6314157f",
   "metadata": {},
   "outputs": [
    {
     "name": "stdout",
     "output_type": "stream",
     "text": [
      "Empieza el algoritmo con error relativo para a:-2.5, b:-0.5, tol:1e-05 y max_iter:18\n",
      "Iteracion 1, a:-2.5, b:-0.5, c:-1.5, |Pn-Pn-1|/|Pn| = -\n",
      "Iteracion 2, a:-1.5, b:-0.5, c:-1.0, |Pn-Pn-1|/|Pn| = 0.5\n",
      "Iteracion 3, a:-1.5, b:-1.0, c:-1.25, |Pn-Pn-1|/|Pn| = 0.2\n",
      "Iteracion 4, a:-1.5, b:-1.25, c:-1.375, |Pn-Pn-1|/|Pn| = 0.09090909090909091\n",
      "Iteracion 5, a:-1.5, b:-1.375, c:-1.4375, |Pn-Pn-1|/|Pn| = 0.043478260869565216\n",
      "Iteracion 6, a:-1.4375, b:-1.375, c:-1.40625, |Pn-Pn-1|/|Pn| = 0.022222222222222223\n",
      "Iteracion 7, a:-1.4375, b:-1.40625, c:-1.421875, |Pn-Pn-1|/|Pn| = 0.01098901098901099\n",
      "Iteracion 8, a:-1.421875, b:-1.40625, c:-1.4140625, |Pn-Pn-1|/|Pn| = 0.0055248618784530384\n",
      "Iteracion 9, a:-1.421875, b:-1.4140625, c:-1.41796875, |Pn-Pn-1|/|Pn| = 0.0027548209366391185\n",
      "Iteracion 10, a:-1.421875, b:-1.41796875, c:-1.419921875, |Pn-Pn-1|/|Pn| = 0.001375515818431912\n",
      "Iteracion 11, a:-1.419921875, b:-1.41796875, c:-1.4189453125, |Pn-Pn-1|/|Pn| = 0.0006882312456985547\n",
      "Iteracion 12, a:-1.4189453125, b:-1.41796875, c:-1.41845703125, |Pn-Pn-1|/|Pn| = 0.00034423407917383823\n",
      "Iteracion 13, a:-1.41845703125, b:-1.41796875, c:-1.418212890625, |Pn-Pn-1|/|Pn| = 0.00017214666896195557\n",
      "Iteracion 14, a:-1.418212890625, b:-1.41796875, c:-1.4180908203125, |Pn-Pn-1|/|Pn| = 8.608074373762589e-05\n",
      "Iteracion 15, a:-1.418212890625, b:-1.4180908203125, c:-1.41815185546875, |Pn-Pn-1|/|Pn| = 4.303851947493006e-05\n",
      "Iteracion 16, a:-1.418212890625, b:-1.41815185546875, c:-1.418182373046875, |Pn-Pn-1|/|Pn| = 2.1518796668890277e-05\n",
      "Iteracion 17, a:-1.418182373046875, b:-1.41815185546875, c:-1.4181671142578125, |Pn-Pn-1|/|Pn| = 1.0759514100343229e-05\n",
      "Iteracion 18, a:-1.418182373046875, b:-1.4181671142578125, c:-1.4181747436523438, |Pn-Pn-1|/|Pn| = 5.379728108541394e-06\n",
      "Resultado final: -1.4181747436523438\n"
     ]
    }
   ],
   "source": [
    "a = -2.5\n",
    "b = -0.5\n",
    "tol = 10**-5\n",
    "max_iter = max_iteraciones_biseccion(a, b, tol)\n",
    "print(f\"Empieza el algoritmo con error relativo para a:{a}, b:{b}, tol:{tol} y max_iter:{max_iter}\")\n",
    "biseccion_error_relativo(fun1, a, b, tol, max_iter)"
   ]
  },
  {
   "cell_type": "markdown",
   "id": "0139c413-a484-493d-80a5-30268d2ccafa",
   "metadata": {},
   "source": [
    "## Bisección error evaluado |f(Pn)|"
   ]
  },
  {
   "cell_type": "code",
   "execution_count": 62,
   "id": "2c474f6f-101d-4598-992f-532027b9c4bf",
   "metadata": {},
   "outputs": [],
   "source": [
    "### Metodo de bisección con criterio de corte |f(Pn)| < TOL\n",
    "### Precondiciones:\n",
    "### - f continua en el intervalo cerrado [a,b]\n",
    "### - f(a)*f(b)<0\n",
    "### Ejecuta el metodo de bisección con todos sus pasos intermedios\n",
    "def biseccion_error_evaluado(f, a, b, tol, max_iter):\n",
    "    n = 1\n",
    "    while n <= max_iter:\n",
    "        c = (a+b)/2\n",
    "        print(f\"Iteracion {n}, a:{a}, b:{b}, c:{c}, |f(Pn)|: {abs(f(c))}\")\n",
    "        if f(c) == 0 or abs(f(c)) < tol:\n",
    "            print(f\"Resultado final: {c}\")\n",
    "            break\n",
    "        n += 1\n",
    "        if sign(f(c)) == sign(f(a)):\n",
    "            a = c\n",
    "        else:\n",
    "            b = c"
   ]
  },
  {
   "cell_type": "code",
   "execution_count": 63,
   "id": "9b037b6b-2c99-481f-abfb-5e036f7fbed4",
   "metadata": {},
   "outputs": [
    {
     "name": "stdout",
     "output_type": "stream",
     "text": [
      "Empieza el algoritmo con error evaluado para a:-2.5, b:-0.5, tol:1e-05 y max_iter:18\n",
      "Iteracion 1, a:-2.5, b:-0.5, c:-1.5, |f(Pn)|: 0.016342547176777574\n",
      "Iteracion 2, a:-1.5, b:-0.5, c:-1.0, |f(Pn)|: 0.11079376530669924\n",
      "Iteracion 3, a:-1.5, b:-1.0, c:-1.25, |f(Pn)|: 0.03829487777829033\n",
      "Iteracion 4, a:-1.5, b:-1.25, c:-1.375, |f(Pn)|: 0.009189543359181603\n",
      "Iteracion 5, a:-1.5, b:-1.375, c:-1.4375, |f(Pn)|: 0.003983878149583797\n",
      "Iteracion 6, a:-1.4375, b:-1.375, c:-1.40625, |f(Pn)|: 0.00249666897782061\n",
      "Iteracion 7, a:-1.4375, b:-1.40625, c:-1.421875, |f(Pn)|: 0.0007695719991418217\n",
      "Iteracion 8, a:-1.421875, b:-1.40625, c:-1.4140625, |f(Pn)|: 0.0008569871451943683\n",
      "Iteracion 9, a:-1.421875, b:-1.4140625, c:-1.41796875, |f(Pn)|: 4.207605740374034e-05\n",
      "Iteracion 10, a:-1.421875, b:-1.41796875, c:-1.419921875, |f(Pn)|: 0.0003641547590654517\n",
      "Iteracion 11, a:-1.419921875, b:-1.41796875, c:-1.4189453125, |f(Pn)|: 0.00016114118369355126\n",
      "Iteracion 12, a:-1.4189453125, b:-1.41796875, c:-1.41845703125, |f(Pn)|: 5.955803838304558e-05\n",
      "Iteracion 13, a:-1.41845703125, b:-1.41796875, c:-1.418212890625, |f(Pn)|: 8.747361429834235e-06\n",
      "Resultado final: -1.418212890625\n"
     ]
    }
   ],
   "source": [
    "a = -2.5\n",
    "b = -0.5\n",
    "tol = 10**-5\n",
    "max_iter = max_iteraciones_biseccion(a, b, tol)\n",
    "print(f\"Empieza el algoritmo con error evaluado para a:{a}, b:{b}, tol:{tol} y max_iter:{max_iter}\")\n",
    "biseccion_error_evaluado(fun1, a, b, tol, max_iter)"
   ]
  }
 ],
 "metadata": {
  "kernelspec": {
   "display_name": "Python 3 (ipykernel)",
   "language": "python",
   "name": "python3"
  },
  "language_info": {
   "codemirror_mode": {
    "name": "ipython",
    "version": 3
   },
   "file_extension": ".py",
   "mimetype": "text/x-python",
   "name": "python",
   "nbconvert_exporter": "python",
   "pygments_lexer": "ipython3",
   "version": "3.10.4"
  }
 },
 "nbformat": 4,
 "nbformat_minor": 5
}
